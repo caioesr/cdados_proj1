{
 "cells": [
  {
   "cell_type": "markdown",
   "metadata": {},
   "source": [
    "<h1>Projeto 1 - Ciência dos Dados</h1>"
   ]
  },
  {
   "cell_type": "markdown",
   "metadata": {},
   "source": [
    "Nome: *Caio Emmanuel*\n",
    "\n",
    "Nome: *Larissa*"
   ]
  },
  {
   "cell_type": "markdown",
   "metadata": {},
   "source": [
    "<h3>Introdução</h3>\n",
    "\n",
    "Para realizar este trabalho, a dupla escolhe como tema a ser pesquisado as Olimpíadas de 2020 que ocorrerão no Japão por este ser um tema atual devido à preparação em velocidade recordista que o país teve para receber o evento e agora mais ainda devido à doença viral Corona que ameaça a realização do mesmo.\n",
    "\n",
    "Classificamos os *tweets* obtidos como 0 ou 1, sendo 0 *tweets* irrelevantes sobre o assunto e 1 o contrário.\n",
    "\n",
    "Vale ressaltar que usamos o artifício matemático probabilístico conhecido como *método de Naive-Bayes* para fazer previsões mais precisas sobre uma base de dados de teste."
   ]
  },
  {
   "cell_type": "markdown",
   "metadata": {},
   "source": [
    "<h3>Critérios de classificação</h3>\n",
    "\n",
    "Classificamos como relevante aqueles *tweets* que remetem a assuntos atuais sobre a Olimpíada, como os atletas convidados, possível cancelamento, etc.\n",
    "\n",
    "E classificamos como irrelevante aqueles que não têm relação com o evento mas tem com algum homônimo (olimpíadas científicas, regionais, olimpíadas passadas,etc.), além daqueles que julgamos não acrescentar nada ao assunto. "
   ]
  },
  {
   "cell_type": "markdown",
   "metadata": {},
   "source": [
    "<h3>Carregando algumas bibliotecas e o dataset:</h3>"
   ]
  },
  {
   "cell_type": "code",
   "execution_count": 1,
   "metadata": {},
   "outputs": [],
   "source": [
    "%matplotlib inline\n",
    "import pandas as pd\n",
    "import matplotlib.pyplot as plt\n",
    "import numpy as np\n",
    "import os"
   ]
  },
  {
   "cell_type": "code",
   "execution_count": 2,
   "metadata": {
    "scrolled": false
   },
   "outputs": [
    {
     "name": "stdout",
     "output_type": "stream",
     "text": [
      "Esperamos trabalhar no diretório\n",
      "/home/caio/Documents/cdados/cdados_proj1\n"
     ]
    }
   ],
   "source": [
    "print('Esperamos trabalhar no diretório')\n",
    "print(os.getcwd())"
   ]
  },
  {
   "cell_type": "markdown",
   "metadata": {},
   "source": [
    "Carregando a base de dados com os tweets classificados como relevantes e não relevantes:"
   ]
  },
  {
   "cell_type": "code",
   "execution_count": 3,
   "metadata": {},
   "outputs": [],
   "source": [
    "dados_treino = pd.read_excel('olympics.xlsx')"
   ]
  },
  {
   "cell_type": "code",
   "execution_count": 4,
   "metadata": {},
   "outputs": [
    {
     "data": {
      "text/html": [
       "<div>\n",
       "<style scoped>\n",
       "    .dataframe tbody tr th:only-of-type {\n",
       "        vertical-align: middle;\n",
       "    }\n",
       "\n",
       "    .dataframe tbody tr th {\n",
       "        vertical-align: top;\n",
       "    }\n",
       "\n",
       "    .dataframe thead th {\n",
       "        text-align: right;\n",
       "    }\n",
       "</style>\n",
       "<table border=\"1\" class=\"dataframe\">\n",
       "  <thead>\n",
       "    <tr style=\"text-align: right;\">\n",
       "      <th></th>\n",
       "      <th>Treinamento</th>\n",
       "      <th>Classification</th>\n",
       "    </tr>\n",
       "  </thead>\n",
       "  <tbody>\n",
       "    <tr>\n",
       "      <td>0</td>\n",
       "      <td>rt @saitomri: i wrote about baseball. really. ...</td>\n",
       "      <td>0</td>\n",
       "    </tr>\n",
       "    <tr>\n",
       "      <td>1</td>\n",
       "      <td>rt @ndidi_amakaa: @solaadio olu leave your mot...</td>\n",
       "      <td>0</td>\n",
       "    </tr>\n",
       "    <tr>\n",
       "      <td>2</td>\n",
       "      <td>@wintersdancer they don’t want to lose the oly...</td>\n",
       "      <td>1</td>\n",
       "    </tr>\n",
       "    <tr>\n",
       "      <td>3</td>\n",
       "      <td>exclusive: indonesia considers 2032 olympics b...</td>\n",
       "      <td>0</td>\n",
       "    </tr>\n",
       "    <tr>\n",
       "      <td>4</td>\n",
       "      <td>the tentacles of canceling the tokyo olympics ...</td>\n",
       "      <td>1</td>\n",
       "    </tr>\n",
       "  </tbody>\n",
       "</table>\n",
       "</div>"
      ],
      "text/plain": [
       "                                         Treinamento  Classification\n",
       "0  rt @saitomri: i wrote about baseball. really. ...               0\n",
       "1  rt @ndidi_amakaa: @solaadio olu leave your mot...               0\n",
       "2  @wintersdancer they don’t want to lose the oly...               1\n",
       "3  exclusive: indonesia considers 2032 olympics b...               0\n",
       "4  the tentacles of canceling the tokyo olympics ...               1"
      ]
     },
     "execution_count": 4,
     "metadata": {},
     "output_type": "execute_result"
    }
   ],
   "source": [
    "dados_treino.head()"
   ]
  },
  {
   "cell_type": "markdown",
   "metadata": {},
   "source": [
    "<h3>Realizando limpeza dos dados</h3>"
   ]
  },
  {
   "cell_type": "code",
   "execution_count": 5,
   "metadata": {},
   "outputs": [],
   "source": [
    "import re \n",
    "\n",
    "# Função que remove pontuação\n",
    "def cleanup(text):\n",
    "    punctuation = '[\\/!-.:?;]'\n",
    "    pattern = re.compile(punctuation)\n",
    "    text_subbed = re.sub(pattern, '', text)\n",
    "    return text_subbed\n",
    "\n",
    "for i in range(500):\n",
    "    # Removendo pontuação\n",
    "    dados_treino = dados_treino.replace(dados_treino['Treinamento'][i], cleanup(dados_treino['Treinamento'][i]))\n",
    "    \n",
    "    # Removendo '\\n'\n",
    "    dados_treino['Treinamento'] = dados_treino['Treinamento'].str.replace('[\\n]','')\n",
    "    \n",
    "    # Removendo 'rt'\n",
    "    if dados_treino['Treinamento'][i][:2] == 'rt':\n",
    "        dados_treino = dados_treino.replace(dados_treino['Treinamento'][i], dados_treino['Treinamento'][i][3:])\n",
    "        \n",
    "    # Deixando todas as letras minúsculas:\n",
    "    dados_treino = dados_treino.replace(dados_treino['Treinamento'][i], dados_treino['Treinamento'][i].lower())"
   ]
  },
  {
   "cell_type": "code",
   "execution_count": 6,
   "metadata": {},
   "outputs": [
    {
     "data": {
      "text/html": [
       "<div>\n",
       "<style scoped>\n",
       "    .dataframe tbody tr th:only-of-type {\n",
       "        vertical-align: middle;\n",
       "    }\n",
       "\n",
       "    .dataframe tbody tr th {\n",
       "        vertical-align: top;\n",
       "    }\n",
       "\n",
       "    .dataframe thead th {\n",
       "        text-align: right;\n",
       "    }\n",
       "</style>\n",
       "<table border=\"1\" class=\"dataframe\">\n",
       "  <thead>\n",
       "    <tr style=\"text-align: right;\">\n",
       "      <th></th>\n",
       "      <th>Treinamento</th>\n",
       "      <th>Classification</th>\n",
       "    </tr>\n",
       "  </thead>\n",
       "  <tbody>\n",
       "    <tr>\n",
       "      <td>0</td>\n",
       "      <td>@saitomri i wrote about baseball really httpst...</td>\n",
       "      <td>0</td>\n",
       "    </tr>\n",
       "    <tr>\n",
       "      <td>1</td>\n",
       "      <td>@ndidi_amakaa @solaadio olu leave your mother ...</td>\n",
       "      <td>0</td>\n",
       "    </tr>\n",
       "    <tr>\n",
       "      <td>2</td>\n",
       "      <td>@wintersdancer they don’t want to lose the oly...</td>\n",
       "      <td>1</td>\n",
       "    </tr>\n",
       "    <tr>\n",
       "      <td>3</td>\n",
       "      <td>exclusive indonesia considers 2032 olympics bi...</td>\n",
       "      <td>0</td>\n",
       "    </tr>\n",
       "    <tr>\n",
       "      <td>4</td>\n",
       "      <td>the tentacles of canceling the tokyo olympics ...</td>\n",
       "      <td>1</td>\n",
       "    </tr>\n",
       "    <tr>\n",
       "      <td>...</td>\n",
       "      <td>...</td>\n",
       "      <td>...</td>\n",
       "    </tr>\n",
       "    <tr>\n",
       "      <td>495</td>\n",
       "      <td>highspeed camera used by nazis to both accurat...</td>\n",
       "      <td>0</td>\n",
       "    </tr>\n",
       "    <tr>\n",
       "      <td>496</td>\n",
       "      <td>indonesia considers 2032 olympics bid for new ...</td>\n",
       "      <td>0</td>\n",
       "    </tr>\n",
       "    <tr>\n",
       "      <td>497</td>\n",
       "      <td>@gailwalden6 i would like to apply to be in th...</td>\n",
       "      <td>0</td>\n",
       "    </tr>\n",
       "    <tr>\n",
       "      <td>498</td>\n",
       "      <td>the year is 2024 🔮womens world no 1 is 👩______...</td>\n",
       "      <td>0</td>\n",
       "    </tr>\n",
       "    <tr>\n",
       "      <td>499</td>\n",
       "      <td>@kagutamuseveni this is a joke and total waste...</td>\n",
       "      <td>1</td>\n",
       "    </tr>\n",
       "  </tbody>\n",
       "</table>\n",
       "<p>500 rows × 2 columns</p>\n",
       "</div>"
      ],
      "text/plain": [
       "                                           Treinamento  Classification\n",
       "0    @saitomri i wrote about baseball really httpst...               0\n",
       "1    @ndidi_amakaa @solaadio olu leave your mother ...               0\n",
       "2    @wintersdancer they don’t want to lose the oly...               1\n",
       "3    exclusive indonesia considers 2032 olympics bi...               0\n",
       "4    the tentacles of canceling the tokyo olympics ...               1\n",
       "..                                                 ...             ...\n",
       "495  highspeed camera used by nazis to both accurat...               0\n",
       "496  indonesia considers 2032 olympics bid for new ...               0\n",
       "497  @gailwalden6 i would like to apply to be in th...               0\n",
       "498  the year is 2024 🔮womens world no 1 is 👩______...               0\n",
       "499  @kagutamuseveni this is a joke and total waste...               1\n",
       "\n",
       "[500 rows x 2 columns]"
      ]
     },
     "execution_count": 6,
     "metadata": {},
     "output_type": "execute_result"
    }
   ],
   "source": [
    "dados_treino"
   ]
  },
  {
   "cell_type": "markdown",
   "metadata": {},
   "source": [
    "<h3>Separando o dataset em *tweets* relavantes e irrelevantes</h3>"
   ]
  },
  {
   "cell_type": "code",
   "execution_count": 7,
   "metadata": {},
   "outputs": [
    {
     "data": {
      "text/html": [
       "<div>\n",
       "<style scoped>\n",
       "    .dataframe tbody tr th:only-of-type {\n",
       "        vertical-align: middle;\n",
       "    }\n",
       "\n",
       "    .dataframe tbody tr th {\n",
       "        vertical-align: top;\n",
       "    }\n",
       "\n",
       "    .dataframe thead th {\n",
       "        text-align: right;\n",
       "    }\n",
       "</style>\n",
       "<table border=\"1\" class=\"dataframe\">\n",
       "  <thead>\n",
       "    <tr style=\"text-align: right;\">\n",
       "      <th></th>\n",
       "      <th>Treinamento</th>\n",
       "      <th>Classification</th>\n",
       "    </tr>\n",
       "  </thead>\n",
       "  <tbody>\n",
       "    <tr>\n",
       "      <td>2</td>\n",
       "      <td>@wintersdancer they don’t want to lose the oly...</td>\n",
       "      <td>1</td>\n",
       "    </tr>\n",
       "    <tr>\n",
       "      <td>4</td>\n",
       "      <td>the tentacles of canceling the tokyo olympics ...</td>\n",
       "      <td>1</td>\n",
       "    </tr>\n",
       "    <tr>\n",
       "      <td>5</td>\n",
       "      <td>it is the olympic year and we as a team have p...</td>\n",
       "      <td>1</td>\n",
       "    </tr>\n",
       "    <tr>\n",
       "      <td>9</td>\n",
       "      <td>@imrahultrehan from practicing muay thai in he...</td>\n",
       "      <td>1</td>\n",
       "    </tr>\n",
       "    <tr>\n",
       "      <td>10</td>\n",
       "      <td>athletes aiming for gold medals or sports busi...</td>\n",
       "      <td>1</td>\n",
       "    </tr>\n",
       "    <tr>\n",
       "      <td>...</td>\n",
       "      <td>...</td>\n",
       "      <td>...</td>\n",
       "    </tr>\n",
       "    <tr>\n",
       "      <td>478</td>\n",
       "      <td>@skift olympics cancellation would spell heavy...</td>\n",
       "      <td>1</td>\n",
       "    </tr>\n",
       "    <tr>\n",
       "      <td>480</td>\n",
       "      <td>olympics torch lighting ceremony will be close...</td>\n",
       "      <td>1</td>\n",
       "    </tr>\n",
       "    <tr>\n",
       "      <td>485</td>\n",
       "      <td>a lot of people stand to lose if olympics are ...</td>\n",
       "      <td>1</td>\n",
       "    </tr>\n",
       "    <tr>\n",
       "      <td>487</td>\n",
       "      <td>tokyo 2020 has been dealt its first significan...</td>\n",
       "      <td>1</td>\n",
       "    </tr>\n",
       "    <tr>\n",
       "      <td>499</td>\n",
       "      <td>@kagutamuseveni this is a joke and total waste...</td>\n",
       "      <td>1</td>\n",
       "    </tr>\n",
       "  </tbody>\n",
       "</table>\n",
       "<p>178 rows × 2 columns</p>\n",
       "</div>"
      ],
      "text/plain": [
       "                                           Treinamento  Classification\n",
       "2    @wintersdancer they don’t want to lose the oly...               1\n",
       "4    the tentacles of canceling the tokyo olympics ...               1\n",
       "5    it is the olympic year and we as a team have p...               1\n",
       "9    @imrahultrehan from practicing muay thai in he...               1\n",
       "10   athletes aiming for gold medals or sports busi...               1\n",
       "..                                                 ...             ...\n",
       "478  @skift olympics cancellation would spell heavy...               1\n",
       "480  olympics torch lighting ceremony will be close...               1\n",
       "485  a lot of people stand to lose if olympics are ...               1\n",
       "487  tokyo 2020 has been dealt its first significan...               1\n",
       "499  @kagutamuseveni this is a joke and total waste...               1\n",
       "\n",
       "[178 rows x 2 columns]"
      ]
     },
     "execution_count": 7,
     "metadata": {},
     "output_type": "execute_result"
    }
   ],
   "source": [
    "# tweets relevantes\n",
    "tweets_r = dados_treino.loc[(dados_treino.Classification == 1)]\n",
    "tweets_r"
   ]
  },
  {
   "cell_type": "code",
   "execution_count": 8,
   "metadata": {},
   "outputs": [],
   "source": [
    "# tweets irrelevantes\n",
    "tweets_ir = dados_treino.loc[(dados_treino.Classification == 0)]"
   ]
  },
  {
   "cell_type": "markdown",
   "metadata": {},
   "source": [
    "Logo a probabilidade de um *tweet* ser relevante (P_r) e irrelevante (P_ir) são..."
   ]
  },
  {
   "cell_type": "code",
   "execution_count": 12,
   "metadata": {},
   "outputs": [
    {
     "name": "stdout",
     "output_type": "stream",
     "text": [
      "A frequência de tweets relevantes é: 0.356\n",
      "A frequência de tweets irrelevantes é: 0.644\n"
     ]
    }
   ],
   "source": [
    "P_r = tweets_r.Treinamento.count()/dados_treino.Treinamento.count()\n",
    "P_ir = tweets_ir.Treinamento.count()/dados_treino.Treinamento.count()\n",
    "print('A frequência de tweets relevantes é: {0}' .format(P_r))\n",
    "print('A frequência de tweets irrelevantes é: {0}' .format(P_ir))"
   ]
  },
  {
   "cell_type": "markdown",
   "metadata": {},
   "source": [
    "<h3>Calculando frequências relativas dentro de cada grupo</h3>"
   ]
  },
  {
   "cell_type": "code",
   "execution_count": 14,
   "metadata": {},
   "outputs": [
    {
     "data": {
      "text/plain": [
       "0        @wintersdancer\n",
       "1                  they\n",
       "2                 don’t\n",
       "3                  want\n",
       "4                    to\n",
       "             ...       \n",
       "3634            torture\n",
       "3635                yes\n",
       "3636                for\n",
       "3637                him\n",
       "3638    @kagutamuseveni\n",
       "Length: 3639, dtype: object"
      ]
     },
     "execution_count": 14,
     "metadata": {},
     "output_type": "execute_result"
    }
   ],
   "source": [
    "# criando texto com todos os tweets relevantes\n",
    "txt_r = ''\n",
    "for t in tweets_r['Treinamento']:\n",
    "    t = str(t)\n",
    "    txt_r += t\n",
    "\n",
    "# criando série com as palavras dos tweets relevantes\n",
    "words_r = pd.Series(txt_r.split())\n",
    "words_r"
   ]
  },
  {
   "cell_type": "code",
   "execution_count": 15,
   "metadata": {},
   "outputs": [
    {
     "data": {
      "text/plain": [
       "the          0.061830\n",
       "olympics     0.035999\n",
       "to           0.028030\n",
       "of           0.019236\n",
       "for          0.018137\n",
       "               ...   \n",
       "between      0.000275\n",
       "moderates    0.000275\n",
       "beyond       0.000275\n",
       "@skift       0.000275\n",
       "june         0.000275\n",
       "Length: 1378, dtype: float64"
      ]
     },
     "execution_count": 15,
     "metadata": {},
     "output_type": "execute_result"
    }
   ],
   "source": [
    "words_r = words_r.value_counts(True)\n",
    "words_r"
   ]
  },
  {
   "cell_type": "code",
   "execution_count": 16,
   "metadata": {},
   "outputs": [
    {
     "data": {
      "text/plain": [
       "1.0"
      ]
     },
     "execution_count": 16,
     "metadata": {},
     "output_type": "execute_result"
    }
   ],
   "source": [
    "words_r.sum()"
   ]
  },
  {
   "cell_type": "code",
   "execution_count": 17,
   "metadata": {},
   "outputs": [
    {
     "data": {
      "text/plain": [
       "the                        0.050114\n",
       "olympics                   0.028047\n",
       "to                         0.024060\n",
       "and                        0.017796\n",
       "in                         0.017227\n",
       "                             ...   \n",
       "immediately                0.000142\n",
       "shoreline                  0.000142\n",
       "olympics@realjameswoods    0.000142\n",
       "nose                       0.000142\n",
       "egypt                      0.000142\n",
       "Length: 2672, dtype: float64"
      ]
     },
     "execution_count": 17,
     "metadata": {},
     "output_type": "execute_result"
    }
   ],
   "source": [
    "# Do mesmo jeito para os tweets irrelevantes:\n",
    "txt_ir = ''\n",
    "for t in tweets_ir['Treinamento']:\n",
    "    t = str(t)\n",
    "    txt_ir += t\n",
    "    \n",
    "words_ir = pd.Series(txt_ir.split())\n",
    "words_ir = words_ir.value_counts(True)\n",
    "words_ir"
   ]
  },
  {
   "cell_type": "markdown",
   "metadata": {},
   "source": [
    "Assuma agora que as palavras que aparecem nos dois datasets anteriores sejam todas as palavras do Universo no Twitter (tweeverse)"
   ]
  },
  {
   "cell_type": "code",
   "execution_count": 18,
   "metadata": {},
   "outputs": [],
   "source": [
    "txt = txt_r + txt_ir\n",
    "tweeverse_words = pd.Series(txt.split())\n",
    "tweeverse_words_frequencie = tweeverse_words.value_counts(True)"
   ]
  },
  {
   "cell_type": "code",
   "execution_count": 19,
   "metadata": {},
   "outputs": [
    {
     "data": {
      "text/plain": [
       "the              0.054112\n",
       "olympics         0.030761\n",
       "to               0.025415\n",
       "for              0.017256\n",
       "of               0.017068\n",
       "                   ...   \n",
       "therethink       0.000094\n",
       "system           0.000094\n",
       "kelly            0.000094\n",
       "energy           0.000094\n",
       "automatically    0.000094\n",
       "Length: 3514, dtype: float64"
      ]
     },
     "execution_count": 19,
     "metadata": {},
     "output_type": "execute_result"
    }
   ],
   "source": [
    "tweeverse_words_frequencie"
   ]
  },
  {
   "cell_type": "markdown",
   "metadata": {},
   "source": [
    "<h3>Realizando testes</h3>"
   ]
  },
  {
   "cell_type": "code",
   "execution_count": 20,
   "metadata": {},
   "outputs": [
    {
     "data": {
      "text/html": [
       "<div>\n",
       "<style scoped>\n",
       "    .dataframe tbody tr th:only-of-type {\n",
       "        vertical-align: middle;\n",
       "    }\n",
       "\n",
       "    .dataframe tbody tr th {\n",
       "        vertical-align: top;\n",
       "    }\n",
       "\n",
       "    .dataframe thead th {\n",
       "        text-align: right;\n",
       "    }\n",
       "</style>\n",
       "<table border=\"1\" class=\"dataframe\">\n",
       "  <thead>\n",
       "    <tr style=\"text-align: right;\">\n",
       "      <th></th>\n",
       "      <th>Teste</th>\n",
       "      <th>Classification</th>\n",
       "    </tr>\n",
       "  </thead>\n",
       "  <tbody>\n",
       "    <tr>\n",
       "      <td>0</td>\n",
       "      <td>fwit olympics https://t.co/72go6l7pkx</td>\n",
       "      <td>0</td>\n",
       "    </tr>\n",
       "    <tr>\n",
       "      <td>1</td>\n",
       "      <td>@jimodonnell2 it's certainly a supportable opi...</td>\n",
       "      <td>1</td>\n",
       "    </tr>\n",
       "    <tr>\n",
       "      <td>2</td>\n",
       "      <td>@kapil857 @kapil857 any link to know how point...</td>\n",
       "      <td>0</td>\n",
       "    </tr>\n",
       "    <tr>\n",
       "      <td>3</td>\n",
       "      <td>rt @media_sai: what a superb performance by @s...</td>\n",
       "      <td>0</td>\n",
       "    </tr>\n",
       "    <tr>\n",
       "      <td>4</td>\n",
       "      <td>rt @theeconomist: japan may have to cancel the...</td>\n",
       "      <td>1</td>\n",
       "    </tr>\n",
       "    <tr>\n",
       "      <td>...</td>\n",
       "      <td>...</td>\n",
       "      <td>...</td>\n",
       "    </tr>\n",
       "    <tr>\n",
       "      <td>95</td>\n",
       "      <td>study: tokyo 2020 cancellation could see japan...</td>\n",
       "      <td>1</td>\n",
       "    </tr>\n",
       "    <tr>\n",
       "      <td>96</td>\n",
       "      <td>japanese doctors report sharp falls in cases o...</td>\n",
       "      <td>0</td>\n",
       "    </tr>\n",
       "    <tr>\n",
       "      <td>97</td>\n",
       "      <td>rt @jimmfelton: “virus is bad, might have to c...</td>\n",
       "      <td>0</td>\n",
       "    </tr>\n",
       "    <tr>\n",
       "      <td>98</td>\n",
       "      <td>rt @drjitendrasingh: eight indian boxers inclu...</td>\n",
       "      <td>1</td>\n",
       "    </tr>\n",
       "    <tr>\n",
       "      <td>99</td>\n",
       "      <td>the international olympic committee and local ...</td>\n",
       "      <td>1</td>\n",
       "    </tr>\n",
       "  </tbody>\n",
       "</table>\n",
       "<p>100 rows × 2 columns</p>\n",
       "</div>"
      ],
      "text/plain": [
       "                                                Teste  Classification\n",
       "0               fwit olympics https://t.co/72go6l7pkx               0\n",
       "1   @jimodonnell2 it's certainly a supportable opi...               1\n",
       "2   @kapil857 @kapil857 any link to know how point...               0\n",
       "3   rt @media_sai: what a superb performance by @s...               0\n",
       "4   rt @theeconomist: japan may have to cancel the...               1\n",
       "..                                                ...             ...\n",
       "95  study: tokyo 2020 cancellation could see japan...               1\n",
       "96  japanese doctors report sharp falls in cases o...               0\n",
       "97  rt @jimmfelton: “virus is bad, might have to c...               0\n",
       "98  rt @drjitendrasingh: eight indian boxers inclu...               1\n",
       "99  the international olympic committee and local ...               1\n",
       "\n",
       "[100 rows x 2 columns]"
      ]
     },
     "execution_count": 20,
     "metadata": {},
     "output_type": "execute_result"
    }
   ],
   "source": [
    "dados_teste = pd.read_excel('teste.xlsx')\n",
    "dados_teste"
   ]
  },
  {
   "cell_type": "markdown",
   "metadata": {},
   "source": [
    "Vamos realizar todo o processo de formatação e encontra P_r e P_ir dos dados de treino"
   ]
  },
  {
   "cell_type": "code",
   "execution_count": 22,
   "metadata": {},
   "outputs": [],
   "source": [
    "for i in range(100):\n",
    "    # Removendo pontuação\n",
    "    dados_teste = dados_teste.replace(dados_teste['Teste'][i], cleanup(dados_teste['Teste'][i]))\n",
    "    \n",
    "    # Removendo '\\n'\n",
    "    dados_teste['Teste'] = dados_teste['Teste'].str.replace('[\\n]','')\n",
    "    \n",
    "    # Removendo 'rt'\n",
    "    if dados_teste['Teste'][i][:2] == 'rt':\n",
    "        dados_teste = dados_teste.replace(dados_teste['Teste'][i], dados_teste['Teste'][i][3:])\n",
    "        \n",
    "    # Deixando todas as letras minúsculas:\n",
    "    dados_teste = dados_teste.replace(dados_teste['Teste'][i], dados_teste['Teste'][i].lower())"
   ]
  },
  {
   "cell_type": "code",
   "execution_count": 23,
   "metadata": {},
   "outputs": [
    {
     "data": {
      "text/html": [
       "<div>\n",
       "<style scoped>\n",
       "    .dataframe tbody tr th:only-of-type {\n",
       "        vertical-align: middle;\n",
       "    }\n",
       "\n",
       "    .dataframe tbody tr th {\n",
       "        vertical-align: top;\n",
       "    }\n",
       "\n",
       "    .dataframe thead th {\n",
       "        text-align: right;\n",
       "    }\n",
       "</style>\n",
       "<table border=\"1\" class=\"dataframe\">\n",
       "  <thead>\n",
       "    <tr style=\"text-align: right;\">\n",
       "      <th></th>\n",
       "      <th>Teste</th>\n",
       "      <th>Classification</th>\n",
       "    </tr>\n",
       "  </thead>\n",
       "  <tbody>\n",
       "    <tr>\n",
       "      <td>0</td>\n",
       "      <td>fwit olympics httpstco72go6l7pkx</td>\n",
       "      <td>0</td>\n",
       "    </tr>\n",
       "    <tr>\n",
       "      <td>1</td>\n",
       "      <td>@jimodonnell2 its certainly a supportable opin...</td>\n",
       "      <td>1</td>\n",
       "    </tr>\n",
       "    <tr>\n",
       "      <td>2</td>\n",
       "      <td>@kapil857 @kapil857 any link to know how point...</td>\n",
       "      <td>0</td>\n",
       "    </tr>\n",
       "    <tr>\n",
       "      <td>3</td>\n",
       "      <td>@media_sai what a superb performance by @simra...</td>\n",
       "      <td>0</td>\n",
       "    </tr>\n",
       "    <tr>\n",
       "      <td>4</td>\n",
       "      <td>@theeconomist japan may have to cancel the oly...</td>\n",
       "      <td>1</td>\n",
       "    </tr>\n",
       "    <tr>\n",
       "      <td>...</td>\n",
       "      <td>...</td>\n",
       "      <td>...</td>\n",
       "    </tr>\n",
       "    <tr>\n",
       "      <td>95</td>\n",
       "      <td>study tokyo 2020 cancellation could see japan’...</td>\n",
       "      <td>1</td>\n",
       "    </tr>\n",
       "    <tr>\n",
       "      <td>96</td>\n",
       "      <td>japanese doctors report sharp falls in cases o...</td>\n",
       "      <td>0</td>\n",
       "    </tr>\n",
       "    <tr>\n",
       "      <td>97</td>\n",
       "      <td>@jimmfelton “virus is bad might have to cancel...</td>\n",
       "      <td>0</td>\n",
       "    </tr>\n",
       "    <tr>\n",
       "      <td>98</td>\n",
       "      <td>@drjitendrasingh eight indian boxers including...</td>\n",
       "      <td>1</td>\n",
       "    </tr>\n",
       "    <tr>\n",
       "      <td>99</td>\n",
       "      <td>the international olympic committee and local ...</td>\n",
       "      <td>1</td>\n",
       "    </tr>\n",
       "  </tbody>\n",
       "</table>\n",
       "<p>100 rows × 2 columns</p>\n",
       "</div>"
      ],
      "text/plain": [
       "                                                Teste  Classification\n",
       "0                    fwit olympics httpstco72go6l7pkx               0\n",
       "1   @jimodonnell2 its certainly a supportable opin...               1\n",
       "2   @kapil857 @kapil857 any link to know how point...               0\n",
       "3   @media_sai what a superb performance by @simra...               0\n",
       "4   @theeconomist japan may have to cancel the oly...               1\n",
       "..                                                ...             ...\n",
       "95  study tokyo 2020 cancellation could see japan’...               1\n",
       "96  japanese doctors report sharp falls in cases o...               0\n",
       "97  @jimmfelton “virus is bad might have to cancel...               0\n",
       "98  @drjitendrasingh eight indian boxers including...               1\n",
       "99  the international olympic committee and local ...               1\n",
       "\n",
       "[100 rows x 2 columns]"
      ]
     },
     "execution_count": 23,
     "metadata": {},
     "output_type": "execute_result"
    }
   ],
   "source": [
    "dados_teste"
   ]
  },
  {
   "cell_type": "markdown",
   "metadata": {},
   "source": [
    "___\n",
    "### Montando um Classificador Naive-Bayes\n",
    "\n",
    "Considerando apenas as mensagens da planilha Treinamento, ensine  seu classificador."
   ]
  },
  {
   "cell_type": "code",
   "execution_count": null,
   "metadata": {},
   "outputs": [],
   "source": []
  },
  {
   "cell_type": "code",
   "execution_count": null,
   "metadata": {},
   "outputs": [],
   "source": []
  },
  {
   "cell_type": "code",
   "execution_count": null,
   "metadata": {},
   "outputs": [],
   "source": []
  },
  {
   "cell_type": "markdown",
   "metadata": {},
   "source": [
    "___\n",
    "### Verificando a performance do Classificador\n",
    "\n",
    "Agora você deve testar o seu classificador com a base de Testes."
   ]
  },
  {
   "cell_type": "code",
   "execution_count": null,
   "metadata": {},
   "outputs": [],
   "source": []
  },
  {
   "cell_type": "code",
   "execution_count": null,
   "metadata": {},
   "outputs": [],
   "source": []
  },
  {
   "cell_type": "code",
   "execution_count": null,
   "metadata": {},
   "outputs": [],
   "source": []
  },
  {
   "cell_type": "markdown",
   "metadata": {},
   "source": [
    "___\n",
    "### Concluindo"
   ]
  },
  {
   "cell_type": "code",
   "execution_count": null,
   "metadata": {},
   "outputs": [],
   "source": []
  },
  {
   "cell_type": "code",
   "execution_count": null,
   "metadata": {},
   "outputs": [],
   "source": []
  },
  {
   "cell_type": "markdown",
   "metadata": {},
   "source": [
    "___\n",
    "## Aperfeiçoamento:\n",
    "\n",
    "Os trabalhos vão evoluir em conceito dependendo da quantidade de itens avançados:\n",
    "\n",
    "* Limpar: \\n, :, \", ', (, ), etc SEM remover emojis\n",
    "* Corrigir separação de espaços entre palavras e emojis ou entre emojis e emojis\n",
    "* Propor outras limpezas e transformações que não afetem a qualidade da informação ou classificação\n",
    "* Criar categorias intermediárias de relevância baseadas na probabilidade: ex.: muito relevante, relevante, neutro, irrelevante, muito irrelevante (3 categorias: C, mais categorias conta para B)\n",
    "* Explicar por que não posso usar o próprio classificador para gerar mais amostras de treinamento\n",
    "* Propor diferentes cenários para Naïve Bayes fora do contexto do projeto\n",
    "* Sugerir e explicar melhorias reais com indicações concretas de como implementar (indicar como fazer e indicar material de pesquisa)\n",
    "* Montar um dashboard que periodicamente realiza análise de sentimento e visualiza estes dados"
   ]
  },
  {
   "cell_type": "markdown",
   "metadata": {},
   "source": [
    "___\n",
    "## Referências"
   ]
  },
  {
   "cell_type": "markdown",
   "metadata": {},
   "source": [
    "[Naive Bayes and Text Classification](https://arxiv.org/pdf/1410.5329.pdf)  **Mais completo**\n",
    "\n",
    "[A practical explanation of a Naive Bayes Classifier](https://monkeylearn.com/blog/practical-explanation-naive-bayes-classifier/) **Mais simples**"
   ]
  },
  {
   "cell_type": "code",
   "execution_count": null,
   "metadata": {},
   "outputs": [],
   "source": []
  }
 ],
 "metadata": {
  "kernelspec": {
   "display_name": "Python 3",
   "language": "python",
   "name": "python3"
  },
  "language_info": {
   "codemirror_mode": {
    "name": "ipython",
    "version": 3
   },
   "file_extension": ".py",
   "mimetype": "text/x-python",
   "name": "python",
   "nbconvert_exporter": "python",
   "pygments_lexer": "ipython3",
   "version": "3.7.4"
  }
 },
 "nbformat": 4,
 "nbformat_minor": 4
}
